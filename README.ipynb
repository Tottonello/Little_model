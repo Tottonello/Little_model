# Little_model
#My first contribution, nothing special, just a first shot so far


# Define the databank of descriptions
cat_descriptions = ["claws", "meows" "cat eyes",  "purrs", "whiskers", "stays indoors", "loves fish", "big eyes"]
dog_descriptions = ["big ears", "puppy eyes", "barks", "big tongue", "plays outside", "loves bones"]

# Continuous loop to accept inputs
while True:
    # Get the input description from the user
    description = input("Please enter a description: ").strip().lower()

    # Check for descriptions and print the result
    if description in cat_descriptions:
        print(f"The cat {'has' if description not in ['purrs', 'meows', 'loves fish', 'stays indoors'] else ''} {description}")
    elif description in dog_descriptions:
        print(f"The dog {'has' if description not in ['barks', 'plays outside', 'loves bones'] else ''} {description}")
    elif description == "patoo":
        print("Only Baby Yoda does patoo")
    else:
        print("Sorry, I dunnio")

